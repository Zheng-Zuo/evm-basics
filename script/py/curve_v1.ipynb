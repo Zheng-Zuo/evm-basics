{
 "cells": [
  {
   "cell_type": "code",
   "execution_count": 3,
   "id": "f8c12313-50aa-4b7f-87ae-e52a6b538857",
   "metadata": {},
   "outputs": [],
   "source": [
    "from sympy import symbols, diff, simplify,  init_printing\n",
    "init_printing()"
   ]
  },
  {
   "cell_type": "code",
   "execution_count": 5,
   "id": "8fd1e246-866d-476f-bcf2-e6df3e6fe2d1",
   "metadata": {},
   "outputs": [
    {
     "data": {
      "text/latex": [
       "$\\displaystyle 4 A D - 4 A \\left(x + y\\right) + \\frac{D^{3}}{4 x y} - D$"
      ],
      "text/plain": [
       "                        3      \n",
       "                       D       \n",
       "4⋅A⋅D - 4⋅A⋅(x + y) + ───── - D\n",
       "                      4⋅x⋅y    "
      ]
     },
     "metadata": {},
     "output_type": "display_data"
    },
    {
     "name": "stdout",
     "output_type": "stream",
     "text": [
      "4*A + 3*D**2/(4*x*y) - 1\n"
     ]
    }
   ],
   "source": [
    "# Equations from v1 whitepaper\n",
    "x, y, D, A = symbols(\"x y D A\")\n",
    "n = 2\n",
    "f = A*D*n**n + D**(n+1) / (n**n * x*y) - A*n**n * (x + y) - D\n",
    "\n",
    "display(f)\n",
    "\n",
    "df_dD = diff(f, D)\n",
    "print(df_dD)"
   ]
  },
  {
   "cell_type": "code",
   "execution_count": null,
   "id": "42d5f06c-5595-43bd-a141-1d7d4c2cebd0",
   "metadata": {},
   "outputs": [],
   "source": []
  }
 ],
 "metadata": {
  "kernelspec": {
   "display_name": "Python 3 (ipykernel)",
   "language": "python",
   "name": "python3"
  },
  "language_info": {
   "codemirror_mode": {
    "name": "ipython",
    "version": 3
   },
   "file_extension": ".py",
   "mimetype": "text/x-python",
   "name": "python",
   "nbconvert_exporter": "python",
   "pygments_lexer": "ipython3",
   "version": "3.12.2"
  }
 },
 "nbformat": 4,
 "nbformat_minor": 5
}
